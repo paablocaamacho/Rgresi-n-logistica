{
 "cells": [
  {
   "cell_type": "code",
   "execution_count": 26,
   "id": "8c811c30-5d02-44ce-be76-a7eb6a5400e7",
   "metadata": {},
   "outputs": [],
   "source": [
    "import numpy as np\n",
    "import pandas as pd\n",
    "from sklearn.model_selection import train_test_split\n",
    "from sklearn.ensemble import RandomForestClassifier\n",
    "from sklearn.metrics import classification_report, confusion_matrix, roc_auc_score, roc_curve\n",
    "import matplotlib.pyplot as plt"
   ]
  },
  {
   "cell_type": "code",
   "execution_count": 27,
   "id": "d649017c-54e8-4d6c-a7d3-111e2a5e186f",
   "metadata": {},
   "outputs": [],
   "source": [
    "# Carga de datos\n",
    "df = pd.read_csv('C:\\\\Users\\\\camac\\\\OneDrive\\\\Escritorio\\\\Pablo Camacho\\\\partidos_Grand_Slam (3).csv')"
   ]
  },
  {
   "cell_type": "markdown",
   "id": "019f2a19-5eb1-42a1-a7ca-94a382aff52f",
   "metadata": {},
   "source": [
    "## Creamos la variable objetivo"
   ]
  },
  {
   "cell_type": "code",
   "execution_count": 28,
   "id": "eefffd11-33bb-48dd-96e8-be88a214ab7b",
   "metadata": {},
   "outputs": [
    {
     "name": "stdout",
     "output_type": "stream",
     "text": [
      "win\n",
      "0    132\n",
      "1     37\n",
      "Name: count, dtype: int64\n"
     ]
    }
   ],
   "source": [
    "# Calcula la media de partidos ganados\n",
    "media_partidos_ganados = df['ST partidos ganados'].mean()\n",
    "\n",
    "# Crea una nueva columna 'win' que es 1 si el número de partidos ganados es mayor que la media, 0 de lo contrario\n",
    "df['win'] = (df['ST partidos ganados'] > media_partidos_ganados).astype(int)\n",
    "\n",
    "# Verificar los valores de la nueva columna 'win'\n",
    "print(df['win'].value_counts())"
   ]
  },
  {
   "cell_type": "code",
   "execution_count": 29,
   "id": "4853d54a-8d4e-410a-8b48-be74fb83abe6",
   "metadata": {},
   "outputs": [
    {
     "name": "stdout",
     "output_type": "stream",
     "text": [
      "Index(['rank', 'name', 'country_name', 'country_id', 'ACES',\n",
      "       'ST partidos jugados', 'ST partidos ganados',\n",
      "       'ST juegos saque ganados ', 'ST dobles faltas',\n",
      "       'ST primer servicio ganado ', 'ST segundo servicio ganado ',\n",
      "       'ST puntos break contra partido', 'ST puntos totales ganados',\n",
      "       'ST puntos devueltos ganados ', 'ST tie brieks jugados',\n",
      "       'ST tie brieks ganados', 'ST  total juegos ganados', 'win'],\n",
      "      dtype='object')\n"
     ]
    }
   ],
   "source": [
    "print(df.columns)"
   ]
  },
  {
   "cell_type": "code",
   "execution_count": 30,
   "id": "a5f93a32-b138-4479-8cac-9255f5d44596",
   "metadata": {},
   "outputs": [
    {
     "name": "stdout",
     "output_type": "stream",
     "text": [
      "win\n",
      "0    132\n",
      "1     37\n",
      "Name: count, dtype: int64\n"
     ]
    }
   ],
   "source": [
    "# Calcula la media de partidos ganados\n",
    "media_partidos_ganados = df['ST partidos ganados'].mean()\n",
    "\n",
    "# Crea una nueva columna 'win' que es 1 si el número de partidos ganados es mayor que la media, 0 de lo contrario\n",
    "df['win'] = (df['ST partidos ganados'] > media_partidos_ganados).astype(int)\n",
    "\n",
    "# Verificar los valores de la nueva columna 'win'\n",
    "print(df['win'].value_counts())"
   ]
  },
  {
   "cell_type": "code",
   "execution_count": 31,
   "id": "65a81db7-aa33-4467-a2e0-65664c4a8993",
   "metadata": {},
   "outputs": [],
   "source": [
    "X = df.drop('win', axis=1)  # asegúrate de que 'axis=1' para indicar que estás eliminando una columna\n",
    "y = df['win']"
   ]
  },
  {
   "cell_type": "code",
   "execution_count": 32,
   "id": "278acdf5-2b94-4b1c-b69b-f8a33360e3d7",
   "metadata": {
    "scrolled": true
   },
   "outputs": [
    {
     "name": "stdout",
     "output_type": "stream",
     "text": [
      "   rank                   name        country_name country_id  ACES  \\\n",
      "0     1           Nick Kyrgios           Australia        AUS   304   \n",
      "1     2             John Isner       United States        USA   245   \n",
      "2     3            Marin Cilic             Croatia        CRO   235   \n",
      "3     4  Felix Auger Aliassime              Canada        CAN   191   \n",
      "4     5        Daniil Medvedev  Russian Federation        RUS   183   \n",
      "\n",
      "   ST partidos jugados  ST partidos ganados  ST juegos saque ganados   \\\n",
      "0                 13.0                 10.0                     91.27   \n",
      "1                  8.0                  5.0                     92.66   \n",
      "2                 14.0                 11.0                     88.21   \n",
      "3                 12.0                  8.0                     87.34   \n",
      "4                 15.0                 12.0                     86.15   \n",
      "\n",
      "   ST dobles faltas  ST primer servicio ganado   ST segundo servicio ganado   \\\n",
      "0                56                       77.23                        53.14   \n",
      "1                28                       81.38                        56.01   \n",
      "2                65                       80.12                        53.65   \n",
      "3                62                       77.03                        49.91   \n",
      "4                63                       75.66                        52.59   \n",
      "\n",
      "   ST puntos break contra partido  ST puntos totales ganados  \\\n",
      "0                            6.54                     1600.0   \n",
      "1                            5.25                     1061.0   \n",
      "2                            6.71                     1633.0   \n",
      "3                            7.83                     1553.0   \n",
      "4                            7.43                     1617.0   \n",
      "\n",
      "   ST puntos devueltos ganados   ST tie brieks jugados  ST tie brieks ganados  \\\n",
      "0                         33.95                   11.0                    7.0   \n",
      "1                         27.85                   13.0                    9.0   \n",
      "2                         39.09                    8.0                    5.0   \n",
      "3                         34.92                   13.0                    9.0   \n",
      "4                         40.87                    9.0                    6.0   \n",
      "\n",
      "   ST  total juegos ganados  win  \n",
      "0                     274.0    1  \n",
      "1                     178.0    1  \n",
      "2                     282.0    1  \n",
      "3                     244.0    1  \n",
      "4                     291.0    1  \n",
      "Columnas: Index(['rank', 'name', 'country_name', 'country_id', 'ACES',\n",
      "       'ST partidos jugados', 'ST partidos ganados',\n",
      "       'ST juegos saque ganados ', 'ST dobles faltas',\n",
      "       'ST primer servicio ganado ', 'ST segundo servicio ganado ',\n",
      "       'ST puntos break contra partido', 'ST puntos totales ganados',\n",
      "       'ST puntos devueltos ganados ', 'ST tie brieks jugados',\n",
      "       'ST tie brieks ganados', 'ST  total juegos ganados', 'win'],\n",
      "      dtype='object')\n"
     ]
    }
   ],
   "source": [
    "print(df.head())\n",
    "print(\"Columnas:\", df.columns)"
   ]
  },
  {
   "cell_type": "markdown",
   "id": "87dfd47f-aa09-4057-aeea-51d09d0624e0",
   "metadata": {},
   "source": [
    "## Limpieza de NaNs"
   ]
  },
  {
   "cell_type": "code",
   "execution_count": 33,
   "id": "fbbe93d2-93da-4b99-882e-941f1eaa0fb2",
   "metadata": {},
   "outputs": [
    {
     "name": "stdout",
     "output_type": "stream",
     "text": [
      "¿Hay NaNs en X_train después de imputar? False\n",
      "¿Hay NaNs en X_test después de imputar? False\n"
     ]
    }
   ],
   "source": [
    "import pandas as pd\n",
    "from sklearn.model_selection import train_test_split\n",
    "from sklearn.impute import SimpleImputer\n",
    "import numpy as np\n",
    "\n",
    "# Asumiendo que 'df' es tu DataFrame.\n",
    "# Seleccionar solo columnas numéricas\n",
    "X = df.select_dtypes(include=[np.number])\n",
    "y = df['win']  # Asegúrate de que 'win' es una columna numérica o está adecuadamente procesada.\n",
    "\n",
    "# Dividir los datos en conjuntos de entrenamiento y prueba\n",
    "X_train, X_test, y_train, y_test = train_test_split(X, y, test_size=0.3, random_state=42)\n",
    "\n",
    "# Imputar valores perdidos\n",
    "imputer = SimpleImputer(strategy='mean')\n",
    "X_train_imputed = imputer.fit_transform(X_train)\n",
    "X_test_imputed = imputer.transform(X_test)\n",
    "\n",
    "# Verificar si todavía hay NaNs\n",
    "print(\"¿Hay NaNs en X_train después de imputar?\", np.isnan(X_train_imputed).any())\n",
    "print(\"¿Hay NaNs en X_test después de imputar?\", np.isnan(X_test_imputed).any())"
   ]
  },
  {
   "cell_type": "markdown",
   "id": "91c5be0d-5abe-4e9f-9bb2-6f43d76e8a9f",
   "metadata": {},
   "source": [
    "## Modelo Random Forest"
   ]
  },
  {
   "cell_type": "code",
   "execution_count": 34,
   "id": "5d8e70c6-5c13-4f79-aabd-acffac57bafe",
   "metadata": {},
   "outputs": [],
   "source": [
    "from sklearn.model_selection import train_test_split\n",
    "\n",
    "# Asumiendo que 'df' es tu DataFrame y 'win' es tu variable objetivo\n",
    "X = df.drop('win', axis=1)  # características: todas las columnas excepto 'win'\n",
    "y = df['win']  # variable objetivo\n",
    "\n",
    "# Dividir los datos en entrenamiento y prueba\n",
    "X_train, X_test, y_train, y_test = train_test_split(X, y, test_size=0.3, random_state=42)"
   ]
  },
  {
   "cell_type": "code",
   "execution_count": 35,
   "id": "3ff9dc01-c3a0-4a73-ad7e-600d139f7380",
   "metadata": {
    "scrolled": true
   },
   "outputs": [],
   "source": [
    "# Identificar columnas categóricas y numéricas\n",
    "categorical_cols = X_train.select_dtypes(include=['object', 'category']).columns\n",
    "numeric_cols = X_train.select_dtypes(include=['float64', 'int64']).columns"
   ]
  },
  {
   "cell_type": "code",
   "execution_count": 36,
   "id": "51f13396-4cad-41a8-95bf-9dbcbc18d27a",
   "metadata": {},
   "outputs": [],
   "source": [
    "from sklearn.compose import ColumnTransformer\n",
    "from sklearn.preprocessing import OneHotEncoder\n",
    "from sklearn.impute import SimpleImputer\n",
    "\n",
    "# Crear el transformador de columnas con codificación OneHot para categóricas y imputación para numéricas\n",
    "preprocessor = ColumnTransformer(\n",
    "    transformers=[\n",
    "        ('num', SimpleImputer(strategy='mean'), numeric_cols),\n",
    "        ('cat', OneHotEncoder(handle_unknown='ignore'), categorical_cols)\n",
    "    ]\n",
    ")\n",
    "\n",
    "# Aplicar el preprocesador para transformar los datos X_train y X_test\n",
    "X_train = preprocessor.fit_transform(X_train)\n",
    "X_test = preprocessor.transform(X_test)"
   ]
  },
  {
   "cell_type": "code",
   "execution_count": 37,
   "id": "41c1651e-b43a-4625-98c7-f7d26f97c739",
   "metadata": {
    "scrolled": true
   },
   "outputs": [
    {
     "name": "stdout",
     "output_type": "stream",
     "text": [
      "Exactitud: 1.0\n",
      "Reporte de Clasificación:\n",
      "               precision    recall  f1-score   support\n",
      "\n",
      "           0       1.00      1.00      1.00        37\n",
      "           1       1.00      1.00      1.00        14\n",
      "\n",
      "    accuracy                           1.00        51\n",
      "   macro avg       1.00      1.00      1.00        51\n",
      "weighted avg       1.00      1.00      1.00        51\n",
      "\n"
     ]
    }
   ],
   "source": [
    "from sklearn.ensemble import RandomForestClassifier\n",
    "\n",
    "# Crear el modelo Random Forest\n",
    "model = RandomForestClassifier(n_estimators=100, random_state=42)\n",
    "model.fit(X_train, y_train)\n",
    "\n",
    "# Predicciones y evaluación\n",
    "from sklearn.metrics import accuracy_score, classification_report\n",
    "y_pred = model.predict(X_test)\n",
    "\n",
    "# Evaluación\n",
    "print(\"Exactitud:\", accuracy_score(y_test, y_pred))\n",
    "print(\"Reporte de Clasificación:\\n\", classification_report(y_test, y_pred))"
   ]
  },
  {
   "cell_type": "markdown",
   "id": "82d10975-90ab-49e0-a2de-cb5c18d92eda",
   "metadata": {},
   "source": [
    "## Validación del modelo"
   ]
  },
  {
   "cell_type": "code",
   "execution_count": 38,
   "id": "c432b05d-8f59-425a-86e4-19082996eef0",
   "metadata": {},
   "outputs": [
    {
     "name": "stdout",
     "output_type": "stream",
     "text": [
      "Distribución de la clase objetivo en el conjunto de entrenamiento:\n",
      "win\n",
      "0    95\n",
      "1    23\n",
      "Name: count, dtype: int64\n"
     ]
    }
   ],
   "source": [
    "# Verificar el balance de clases\n",
    "print(\"Distribución de la clase objetivo en el conjunto de entrenamiento:\")\n",
    "print(y_train.value_counts())"
   ]
  },
  {
   "cell_type": "code",
   "execution_count": 39,
   "id": "969b222a-93b0-4d69-95c0-cdf2ed1426c8",
   "metadata": {},
   "outputs": [
    {
     "name": "stdout",
     "output_type": "stream",
     "text": [
      "Puntajes de validación cruzada: [1.         1.         1.         1.         1.         0.91666667\n",
      " 1.         0.91666667 1.         1.        ]\n",
      "Media de la exactitud: 0.9833333333333332\n"
     ]
    }
   ],
   "source": [
    "from sklearn.model_selection import cross_val_score\n",
    "\n",
    "# Realizar validación cruzada\n",
    "cv_scores = cross_val_score(model, X_train, y_train, cv=10, scoring='accuracy')\n",
    "\n",
    "print(\"Puntajes de validación cruzada:\", cv_scores)\n",
    "print(\"Media de la exactitud:\", cv_scores.mean())"
   ]
  },
  {
   "cell_type": "code",
   "execution_count": 40,
   "id": "0ee4e2ff-b304-4d94-bd80-80a10e2ea4a0",
   "metadata": {},
   "outputs": [
    {
     "name": "stdout",
     "output_type": "stream",
     "text": [
      "Matriz de Confusión:\n",
      "[[37  0]\n",
      " [ 0 14]]\n"
     ]
    }
   ],
   "source": [
    "from sklearn.metrics import confusion_matrix\n",
    "\n",
    "# Predicciones con el conjunto de prueba\n",
    "y_pred = model.predict(X_test)\n",
    "\n",
    "# Generar la matriz de confusión\n",
    "conf_matrix = confusion_matrix(y_test, y_pred)\n",
    "print(\"Matriz de Confusión:\")\n",
    "print(conf_matrix)"
   ]
  },
  {
   "cell_type": "code",
   "execution_count": 41,
   "id": "b2bf397c-30fb-4aea-a936-262ae33f90e8",
   "metadata": {},
   "outputs": [
    {
     "name": "stdout",
     "output_type": "stream",
     "text": [
      "ROC AUC: 1.0\n"
     ]
    }
   ],
   "source": [
    "from sklearn.metrics import roc_auc_score\n",
    "\n",
    "# Calcular el AUC\n",
    "auc = roc_auc_score(y_test, model.predict_proba(X_test)[:, 1])\n",
    "print(\"ROC AUC:\", auc)"
   ]
  },
  {
   "cell_type": "code",
   "execution_count": 42,
   "id": "40ccd08b-91db-48b2-bf90-7bd5fdecb8fe",
   "metadata": {},
   "outputs": [
    {
     "name": "stdout",
     "output_type": "stream",
     "text": [
      "Número de filas en X: 169\n",
      "Número de filas en y: 169\n",
      "Los conjuntos X y y están correctamente alineados.\n"
     ]
    }
   ],
   "source": [
    "print(\"Número de filas en X:\", X.shape[0])\n",
    "print(\"Número de filas en y:\", y.shape[0])\n",
    "\n",
    "# Asegúrate de que X y y tienen el mismo número de filas antes de cualquier operación de división.\n",
    "if X.shape[0] == y.shape[0]:\n",
    "    print(\"Los conjuntos X y y están correctamente alineados.\")\n",
    "else:\n",
    "    print(\"Error: X y y tienen un número diferente de filas.\")"
   ]
  },
  {
   "cell_type": "code",
   "execution_count": 43,
   "id": "bbe4e6bc-c227-4a06-8800-d918760d9752",
   "metadata": {},
   "outputs": [],
   "source": [
    "from sklearn.ensemble import RandomForestClassifier\n",
    "\n",
    "# Instancia del modelo Random Forest\n",
    "model = RandomForestClassifier(n_estimators=100, random_state=42)"
   ]
  },
  {
   "cell_type": "code",
   "execution_count": 44,
   "id": "440b924b-96f3-4b08-bd1f-610c5de14aad",
   "metadata": {},
   "outputs": [
    {
     "name": "stdout",
     "output_type": "stream",
     "text": [
      "Exactitud promedio en validación cruzada: 0.9746376811594203\n",
      "ROC AUC promedio en validación cruzada: 0.9947368421052631\n",
      "Precisión promedio en validación cruzada: 0.9666666666666668\n",
      "Recall promedio en validación cruzada: 0.9099999999999999\n",
      "F1-score promedio en validación cruzada: 0.9310245310245311\n"
     ]
    }
   ],
   "source": [
    "from sklearn.model_selection import cross_val_score\n",
    "\n",
    "# Realizar validación cruzada para la métrica de exactitud\n",
    "accuracy_scores = cross_val_score(model, X_train, y_train, cv=5, scoring='accuracy')\n",
    "print(\"Exactitud promedio en validación cruzada:\", accuracy_scores.mean())\n",
    "\n",
    "# Validación cruzada para la métrica ROC AUC\n",
    "roc_auc_scores = cross_val_score(model, X_train, y_train, cv=5, scoring='roc_auc')\n",
    "print(\"ROC AUC promedio en validación cruzada:\", roc_auc_scores.mean())\n",
    "\n",
    "# Validación cruzada para precisión\n",
    "precision_scores = cross_val_score(model, X_train, y_train, cv=5, scoring='precision')\n",
    "print(\"Precisión promedio en validación cruzada:\", precision_scores.mean())\n",
    "\n",
    "# Validación cruzada para recall\n",
    "recall_scores = cross_val_score(model, X_train, y_train, cv=5, scoring='recall')\n",
    "print(\"Recall promedio en validación cruzada:\", recall_scores.mean())\n",
    "\n",
    "# Validación cruzada para F1-score\n",
    "f1_scores = cross_val_score(model, X_train, y_train, cv=5, scoring='f1')\n",
    "print(\"F1-score promedio en validación cruzada:\", f1_scores.mean())"
   ]
  },
  {
   "cell_type": "code",
   "execution_count": 45,
   "id": "31d1ad2a-43a6-4504-9499-56f5dc28fa90",
   "metadata": {},
   "outputs": [
    {
     "data": {
      "text/html": [
       "<style>#sk-container-id-2 {color: black;background-color: white;}#sk-container-id-2 pre{padding: 0;}#sk-container-id-2 div.sk-toggleable {background-color: white;}#sk-container-id-2 label.sk-toggleable__label {cursor: pointer;display: block;width: 100%;margin-bottom: 0;padding: 0.3em;box-sizing: border-box;text-align: center;}#sk-container-id-2 label.sk-toggleable__label-arrow:before {content: \"▸\";float: left;margin-right: 0.25em;color: #696969;}#sk-container-id-2 label.sk-toggleable__label-arrow:hover:before {color: black;}#sk-container-id-2 div.sk-estimator:hover label.sk-toggleable__label-arrow:before {color: black;}#sk-container-id-2 div.sk-toggleable__content {max-height: 0;max-width: 0;overflow: hidden;text-align: left;background-color: #f0f8ff;}#sk-container-id-2 div.sk-toggleable__content pre {margin: 0.2em;color: black;border-radius: 0.25em;background-color: #f0f8ff;}#sk-container-id-2 input.sk-toggleable__control:checked~div.sk-toggleable__content {max-height: 200px;max-width: 100%;overflow: auto;}#sk-container-id-2 input.sk-toggleable__control:checked~label.sk-toggleable__label-arrow:before {content: \"▾\";}#sk-container-id-2 div.sk-estimator input.sk-toggleable__control:checked~label.sk-toggleable__label {background-color: #d4ebff;}#sk-container-id-2 div.sk-label input.sk-toggleable__control:checked~label.sk-toggleable__label {background-color: #d4ebff;}#sk-container-id-2 input.sk-hidden--visually {border: 0;clip: rect(1px 1px 1px 1px);clip: rect(1px, 1px, 1px, 1px);height: 1px;margin: -1px;overflow: hidden;padding: 0;position: absolute;width: 1px;}#sk-container-id-2 div.sk-estimator {font-family: monospace;background-color: #f0f8ff;border: 1px dotted black;border-radius: 0.25em;box-sizing: border-box;margin-bottom: 0.5em;}#sk-container-id-2 div.sk-estimator:hover {background-color: #d4ebff;}#sk-container-id-2 div.sk-parallel-item::after {content: \"\";width: 100%;border-bottom: 1px solid gray;flex-grow: 1;}#sk-container-id-2 div.sk-label:hover label.sk-toggleable__label {background-color: #d4ebff;}#sk-container-id-2 div.sk-serial::before {content: \"\";position: absolute;border-left: 1px solid gray;box-sizing: border-box;top: 0;bottom: 0;left: 50%;z-index: 0;}#sk-container-id-2 div.sk-serial {display: flex;flex-direction: column;align-items: center;background-color: white;padding-right: 0.2em;padding-left: 0.2em;position: relative;}#sk-container-id-2 div.sk-item {position: relative;z-index: 1;}#sk-container-id-2 div.sk-parallel {display: flex;align-items: stretch;justify-content: center;background-color: white;position: relative;}#sk-container-id-2 div.sk-item::before, #sk-container-id-2 div.sk-parallel-item::before {content: \"\";position: absolute;border-left: 1px solid gray;box-sizing: border-box;top: 0;bottom: 0;left: 50%;z-index: -1;}#sk-container-id-2 div.sk-parallel-item {display: flex;flex-direction: column;z-index: 1;position: relative;background-color: white;}#sk-container-id-2 div.sk-parallel-item:first-child::after {align-self: flex-end;width: 50%;}#sk-container-id-2 div.sk-parallel-item:last-child::after {align-self: flex-start;width: 50%;}#sk-container-id-2 div.sk-parallel-item:only-child::after {width: 0;}#sk-container-id-2 div.sk-dashed-wrapped {border: 1px dashed gray;margin: 0 0.4em 0.5em 0.4em;box-sizing: border-box;padding-bottom: 0.4em;background-color: white;}#sk-container-id-2 div.sk-label label {font-family: monospace;font-weight: bold;display: inline-block;line-height: 1.2em;}#sk-container-id-2 div.sk-label-container {text-align: center;}#sk-container-id-2 div.sk-container {/* jupyter's `normalize.less` sets `[hidden] { display: none; }` but bootstrap.min.css set `[hidden] { display: none !important; }` so we also need the `!important` here to be able to override the default hidden behavior on the sphinx rendered scikit-learn.org. See: https://github.com/scikit-learn/scikit-learn/issues/21755 */display: inline-block !important;position: relative;}#sk-container-id-2 div.sk-text-repr-fallback {display: none;}</style><div id=\"sk-container-id-2\" class=\"sk-top-container\"><div class=\"sk-text-repr-fallback\"><pre>RandomForestClassifier(random_state=42)</pre><b>In a Jupyter environment, please rerun this cell to show the HTML representation or trust the notebook. <br />On GitHub, the HTML representation is unable to render, please try loading this page with nbviewer.org.</b></div><div class=\"sk-container\" hidden><div class=\"sk-item\"><div class=\"sk-estimator sk-toggleable\"><input class=\"sk-toggleable__control sk-hidden--visually\" id=\"sk-estimator-id-2\" type=\"checkbox\" checked><label for=\"sk-estimator-id-2\" class=\"sk-toggleable__label sk-toggleable__label-arrow\">RandomForestClassifier</label><div class=\"sk-toggleable__content\"><pre>RandomForestClassifier(random_state=42)</pre></div></div></div></div></div>"
      ],
      "text/plain": [
       "RandomForestClassifier(random_state=42)"
      ]
     },
     "execution_count": 45,
     "metadata": {},
     "output_type": "execute_result"
    }
   ],
   "source": [
    "# Entrenar el modelo con todo el conjunto de entrenamiento\n",
    "model.fit(X_train, y_train)"
   ]
  },
  {
   "cell_type": "code",
   "execution_count": 46,
   "id": "d73121d4-5af6-4096-b39c-194b6df7bf85",
   "metadata": {
    "scrolled": true
   },
   "outputs": [
    {
     "name": "stdout",
     "output_type": "stream",
     "text": [
      "Matriz de Confusión:\n",
      "[[37  0]\n",
      " [ 0 14]]\n",
      "Reporte de Clasificación:\n",
      "              precision    recall  f1-score   support\n",
      "\n",
      "           0       1.00      1.00      1.00        37\n",
      "           1       1.00      1.00      1.00        14\n",
      "\n",
      "    accuracy                           1.00        51\n",
      "   macro avg       1.00      1.00      1.00        51\n",
      "weighted avg       1.00      1.00      1.00        51\n",
      "\n"
     ]
    }
   ],
   "source": [
    "from sklearn.metrics import classification_report, confusion_matrix\n",
    "\n",
    "# Predicciones en el conjunto de prueba\n",
    "y_pred = model.predict(X_test)\n",
    "\n",
    "# Matriz de confusión\n",
    "conf_matrix = confusion_matrix(y_test, y_pred)\n",
    "print(\"Matriz de Confusión:\")\n",
    "print(conf_matrix)\n",
    "\n",
    "# Informe de clasificación\n",
    "class_report = classification_report(y_test, y_pred)\n",
    "print(\"Reporte de Clasificación:\")\n",
    "print(class_report)"
   ]
  },
  {
   "cell_type": "markdown",
   "id": "acbd984e-d21f-41eb-9133-1fa92c5baafa",
   "metadata": {},
   "source": [
    "## Analizar los residuos y errores"
   ]
  },
  {
   "cell_type": "code",
   "execution_count": 47,
   "id": "9d6e6805-610f-4f7b-b6b0-bc127c7822b9",
   "metadata": {
    "scrolled": true
   },
   "outputs": [
    {
     "data": {
      "image/png": "[encoded data removed]",
      "text/plain": [
       "<Figure size 1000x600 with 1 Axes>"
      ]
     },
     "metadata": {},
     "output_type": "display_data"
    }
   ],
   "source": [
    "from sklearn.ensemble import RandomForestClassifier\n",
    "\n",
    "# Asumiendo que 'X_train' y 'y_train' ya están definidos y son tus datos de entrenamiento\n",
    "modelo = RandomForestClassifier(n_estimators=100, random_state=42)\n",
    "modelo.fit(X_train, y_train)\n",
    "\n",
    "# Ahora puedes hacer predicciones\n",
    "predicciones = modelo.predict(X_test)\n",
    "probabilidades = modelo.predict_proba(X_test)\n",
    "\n",
    "# Calcula los errores\n",
    "errores = predicciones != y_test\n",
    "\n",
    "# Extraer probabilidades de la clase positiva (ajustar el índice de clase según sea necesario)\n",
    "probabilidades_positivas = probabilidades[:, 1]  # Ajusta el índice si tu clase positiva está en otra posición\n",
    "\n",
    "# Graficar las probabilidades de la clase positiva para errores\n",
    "import matplotlib.pyplot as plt\n",
    "plt.figure(figsize=(10, 6))\n",
    "plt.hist(probabilidades_positivas[errores], bins=30, alpha=0.7, label='Errores', color='red')\n",
    "plt.hist(probabilidades_positivas[~errores], bins=30, alpha=0.7, label='Correctos', color='green')\n",
    "plt.title('Distribución de Probabilidades Predichas (Errores vs Correctos)')\n",
    "plt.xlabel('Probabilidad de Clase Positiva')\n",
    "plt.ylabel('Frecuencia')\n",
    "plt.legend()\n",
    "plt.show()"
   ]
  },
  {
   "cell_type": "code",
   "execution_count": null,
   "id": "3581c340-bfc9-4f68-a5f1-553d155209c3",
   "metadata": {},
   "outputs": [],
   "source": []
  }
 ],
 "metadata": {
  "kernelspec": {
   "display_name": "Python 3 (ipykernel)",
   "language": "python",
   "name": "python3"
  },
  "language_info": {
   "codemirror_mode": {
    "name": "ipython",
    "version": 3
   },
   "file_extension": ".py",
   "mimetype": "text/x-python",
   "name": "python",
   "nbconvert_exporter": "python",
   "pygments_lexer": "ipython3",
   "version": "3.11.7"
  }
 },
 "nbformat": 4,
 "nbformat_minor": 5
}
